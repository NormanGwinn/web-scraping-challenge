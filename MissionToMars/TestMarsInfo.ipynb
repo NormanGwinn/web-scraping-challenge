{
 "cells": [
  {
   "cell_type": "code",
   "execution_count": 2,
   "metadata": {},
   "outputs": [],
   "source": [
    "import MarsInfo"
   ]
  },
  {
   "cell_type": "code",
   "execution_count": 3,
   "metadata": {},
   "outputs": [
    {
     "data": {
      "text/plain": [
       "['Browser',\n",
       " 'CHROMEDRIVER_FULL_PATH',\n",
       " 'CONN_MONGO',\n",
       " 'MarsInfo',\n",
       " '__builtins__',\n",
       " '__cached__',\n",
       " '__doc__',\n",
       " '__file__',\n",
       " '__loader__',\n",
       " '__name__',\n",
       " '__package__',\n",
       " '__spec__',\n",
       " 'bs',\n",
       " 'json',\n",
       " 'pd',\n",
       " 'pymongo',\n",
       " 're']"
      ]
     },
     "execution_count": 3,
     "metadata": {},
     "output_type": "execute_result"
    }
   ],
   "source": [
    "dir(MarsInfo)"
   ]
  },
  {
   "cell_type": "code",
   "execution_count": 4,
   "metadata": {},
   "outputs": [],
   "source": [
    "mi = MarsInfo.MarsInfo()"
   ]
  },
  {
   "cell_type": "code",
   "execution_count": 6,
   "metadata": {},
   "outputs": [
    {
     "data": {
      "text/plain": [
       "{'News': {'title': \"How NASA's Perseverance Mars Team Adjusted to Work in the Time of Coronavirus\",\n",
       "  'abstract': 'Like much of the rest of the world, the Mars rover team is pushing forward with its mission-critical work while putting the health and safety of their colleagues and community first.'},\n",
       " 'Image': {'url': 'https://www.jpl.nasa.gov/spaceimages/images/largesize/PIA19643_hires.jpg'},\n",
       " 'Weather': {'conditions': 'InSight sol 504 (2020-04-27) low -93.6ºC (-136.5ºF) high -6.7ºC (20.0ºF)\\nwinds from the SW at 4.6 m/s (10.3 mph) gusting to 15.0 m/s (33.6 mph)\\npressure at 6.80 hPa'},\n",
       " 'Facts': {'table_html': '<table border=\"1\" class=\"dataframe table table-sm table-striped\"><thead><tr style=\"text-align: center;\"><th>Attribute</th><th>Value</th></tr></thead><tbody><tr><td>Equatorial Diameter:</td><td>6,792 km</td></tr><tr><td>Polar Diameter:</td><td>6,752 km</td></tr><tr><td>Mass:</td><td>6.39 × 10^23 kg (0.11 Earths)</td></tr><tr><td>Moons:</td><td>2 (Phobos &amp; Deimos)</td></tr><tr><td>Orbit Distance:</td><td>227,943,824 km (1.38 AU)</td></tr><tr><td>Orbit Period:</td><td>687 days (1.9 years)</td></tr><tr><td>Surface Temperature:</td><td>-87 to -5 °C</td></tr><tr><td>First Record:</td><td>2nd millennium BC</td></tr><tr><td>Recorded By:</td><td>Egyptian astronomers</td></tr></tbody>\\n</table>'},\n",
       " 'Hemispheres': {'title_and_image_list': [{'title': 'Cerberus Hemisphere',\n",
       "    'img_url': 'http://astropedia.astrogeology.usgs.gov/download/Mars/Viking/cerberus_enhanced.tif/full.jpg'},\n",
       "   {'title': 'Schiaparelli Hemisphere',\n",
       "    'img_url': 'http://astropedia.astrogeology.usgs.gov/download/Mars/Viking/schiaparelli_enhanced.tif/full.jpg'},\n",
       "   {'title': 'Syrtis Major Hemisphere',\n",
       "    'img_url': 'http://astropedia.astrogeology.usgs.gov/download/Mars/Viking/syrtis_major_enhanced.tif/full.jpg'},\n",
       "   {'title': 'Valles Marineris Hemisphere',\n",
       "    'img_url': 'http://astropedia.astrogeology.usgs.gov/download/Mars/Viking/valles_marineris_enhanced.tif/full.jpg'}]}}"
      ]
     },
     "execution_count": 6,
     "metadata": {},
     "output_type": "execute_result"
    }
   ],
   "source": [
    "mi.retrieve()"
   ]
  },
  {
   "cell_type": "code",
   "execution_count": null,
   "metadata": {},
   "outputs": [],
   "source": []
  }
 ],
 "metadata": {
  "kernelspec": {
   "display_name": "Python 3",
   "language": "python",
   "name": "python3"
  },
  "language_info": {
   "codemirror_mode": {
    "name": "ipython",
    "version": 3
   },
   "file_extension": ".py",
   "mimetype": "text/x-python",
   "name": "python",
   "nbconvert_exporter": "python",
   "pygments_lexer": "ipython3",
   "version": "3.7.6"
  }
 },
 "nbformat": 4,
 "nbformat_minor": 4
}
