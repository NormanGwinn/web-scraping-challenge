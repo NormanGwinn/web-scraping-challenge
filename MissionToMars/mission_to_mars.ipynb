{
 "cells": [
  {
   "cell_type": "code",
   "execution_count": 1,
   "metadata": {},
   "outputs": [],
   "source": [
    "#Notebook, BeautifulSoup, Pandas, and Requests/Splinter\n",
    "from bs4 import BeautifulSoup as bs\n",
    "import pandas as pd\n",
    "import pymongo\n",
    "import requests\n",
    "from splinter import Browser"
   ]
  },
  {
   "cell_type": "code",
   "execution_count": 3,
   "metadata": {},
   "outputs": [],
   "source": [
    "cd_fp = \"C:/Users/norma/Anaconda3/chromedriver.exe\"\n",
    "browser = Browser('chrome', cd_fp, headless=True)"
   ]
  },
  {
   "cell_type": "code",
   "execution_count": 10,
   "metadata": {},
   "outputs": [],
   "source": [
    "conn = 'mongodb://localhost:27017'\n",
    "client = pymongo.MongoClient(conn)\n",
    "db = client.MarsDB"
   ]
  },
  {
   "cell_type": "code",
   "execution_count": null,
   "metadata": {},
   "outputs": [],
   "source": [
    "db2 = client.classDB\n",
    "classroom = db2.classroom.find()\n",
    "\n",
    "# Iterate through each student in the collection\n",
    "for student in classroom:\n",
    "    print(student)\n",
    "    \n",
    "print('\\n')\n",
    "    \n",
    "for student in db2.mw.find():\n",
    "    print(student)"
   ]
  },
  {
   "cell_type": "markdown",
   "metadata": {},
   "source": [
    "## NASA Mars News"
   ]
  },
  {
   "cell_type": "code",
   "execution_count": null,
   "metadata": {},
   "outputs": [],
   "source": [
    "url = 'https://mars.nasa.gov/news/'\n",
    "browser.visit(url)"
   ]
  },
  {
   "cell_type": "code",
   "execution_count": null,
   "metadata": {},
   "outputs": [],
   "source": [
    "html = browser.html\n",
    "soup = bs(html, 'html.parser')\n",
    "first_article = soup.find('li', class_ = 'slide')\n",
    "print(first_article)\n",
    "nasa_title = first_article.find('h3').text.strip()\n",
    "print(nasa_title)\n",
    "nasa_abstract = first_article.find('div', class_ = 'article_teaser_body').text.strip()\n",
    "print(nasa_abstract)"
   ]
  },
  {
   "cell_type": "code",
   "execution_count": null,
   "metadata": {},
   "outputs": [],
   "source": [
    "result = db.News.drop()\n",
    "result = db.News.insert_one({'title':nasa_title,'abstract':nasa_abstract})"
   ]
  },
  {
   "cell_type": "markdown",
   "metadata": {},
   "source": [
    "## JPL Mars Space Images - Featured Image"
   ]
  },
  {
   "cell_type": "code",
   "execution_count": 4,
   "metadata": {},
   "outputs": [],
   "source": [
    "url = 'https://www.jpl.nasa.gov/spaceimages/?search=&category=Mars'\n",
    "browser.visit(url)"
   ]
  },
  {
   "cell_type": "code",
   "execution_count": null,
   "metadata": {},
   "outputs": [],
   "source": [
    "# soup = bs(browser.html, 'html.parser')\n",
    "# body = soup.find('body')\n",
    "# with open('jpl_body.html','w') as f:\n",
    "#     f.write(body.prettify())\n",
    "    \n",
    "browser.links.find_by_partial_text('FULL IMAGE').click()\n",
    "\n",
    "# soup2 = bs(browser.html, 'html.parser')\n",
    "# body = soup2.find('body')\n",
    "# with open('jpl_full_image.html','w') as f:\n",
    "#     f.write(body.prettify())\n",
    "    \n",
    "browser.links.find_by_partial_text('more info').click()\n",
    "\n",
    "soup3 = bs(browser.html, 'html.parser')\n",
    "# body = soup3.find('body')\n",
    "# with open('jpl_more_info.html','w') as f:\n",
    "#     f.write(body.prettify())\n",
    "    \n",
    "featured_image_url = 'https://www.jpl.nasa.gov' + soup3.find('figure').find('a')['href'])"
   ]
  },
  {
   "cell_type": "code",
   "execution_count": null,
   "metadata": {},
   "outputs": [],
   "source": [
    "result = db.Image.drop()\n",
    "result = db.Image.insert_one({'url':featured_image_url})"
   ]
  },
  {
   "cell_type": "markdown",
   "metadata": {},
   "source": [
    "## Mars Weather"
   ]
  },
  {
   "cell_type": "code",
   "execution_count": null,
   "metadata": {},
   "outputs": [],
   "source": [
    "#twitter.com/marswxreport?lang=en\n",
    "url = 'http://twitter.com/marswxreport?lang=en'\n",
    "#browser.visit(url)\n",
    "resp = requests.get(url)"
   ]
  },
  {
   "cell_type": "code",
   "execution_count": null,
   "metadata": {},
   "outputs": [],
   "source": [
    "soup = bs(resp.content, 'html.parser')\n",
    "mars_weather=soup.find('p', class_='TweetTextSize').text.strip()\n",
    "print(mars_weather)"
   ]
  },
  {
   "cell_type": "code",
   "execution_count": null,
   "metadata": {},
   "outputs": [],
   "source": [
    "result = db.Weather.drop()\n",
    "result = db.Weather.insert_one({'conditions':mars_weather})"
   ]
  },
  {
   "cell_type": "markdown",
   "metadata": {},
   "source": [
    "## Mars Facts"
   ]
  },
  {
   "cell_type": "code",
   "execution_count": null,
   "metadata": {},
   "outputs": [],
   "source": [
    "url = 'https://space-facts.com/mars/'\n",
    "dfs = pd.read_html(url)\n",
    "df_mars_facts = dfs[0]\n",
    "df_mars_facts.columns = ['Attribute','Value']\n",
    "df_mars_facts"
   ]
  },
  {
   "cell_type": "code",
   "execution_count": null,
   "metadata": {},
   "outputs": [],
   "source": [
    "df_mars_facts.to_html()"
   ]
  },
  {
   "cell_type": "code",
   "execution_count": null,
   "metadata": {},
   "outputs": [],
   "source": [
    "result = db.Facts.drop()\n",
    "result = db.Facts.insert_one({'table_html':df_mars_facts.to_html()})"
   ]
  },
  {
   "cell_type": "markdown",
   "metadata": {},
   "source": [
    "## Mars Hemispheres"
   ]
  },
  {
   "cell_type": "code",
   "execution_count": 5,
   "metadata": {},
   "outputs": [],
   "source": [
    "url = 'https://astrogeology.usgs.gov/search/results?q=hemisphere+enhanced&k1=target&v1=Mars'\n",
    "browser.visit(url)"
   ]
  },
  {
   "cell_type": "code",
   "execution_count": 6,
   "metadata": {},
   "outputs": [],
   "source": [
    "soup = bs(browser.html,'html.parser')\n",
    "# body = soup.find('body')\n",
    "# with open('hemispheres.html','w') as f:\n",
    "#     f.write(body.prettify())\n"
   ]
  },
  {
   "cell_type": "code",
   "execution_count": 7,
   "metadata": {},
   "outputs": [],
   "source": [
    "# Refinement of Jeab's code\n",
    "# divs = soup.find_all('div', class_='item')\n",
    "# for div in divs:\n",
    "#     key_word = div.find('h3').text\n",
    "#     browser.find_link_by_partial_text(key_word).click()\n",
    "#     img_url = browser.find_link_by_text('Sample').first['href']\n",
    "#     print(img_url)\n",
    "#     browser.back()"
   ]
  },
  {
   "cell_type": "raw",
   "metadata": {},
   "source": [
    "# I've learned that click() on a BeautifulSoup element tag is not the same as \n",
    "# click() on a Splinter browser.links WebDriverElement\n",
    "hemisphere_image_urls = list()\n",
    "divs = soup.find_all('div', class_='description')\n",
    "for div in divs:\n",
    "#    print(div)\n",
    "    anchor = div.find('a')\n",
    "    print(type(anchor), '\\n', anchor)\n",
    "    #anchor.click()\n",
    "    #browser.back()"
   ]
  },
  {
   "cell_type": "code",
   "execution_count": 8,
   "metadata": {},
   "outputs": [
    {
     "data": {
      "text/plain": [
       "[{'title': 'Cerberus Hemisphere',\n",
       "  'img_url': 'http://astropedia.astrogeology.usgs.gov/download/Mars/Viking/cerberus_enhanced.tif/full.jpg'},\n",
       " {'title': 'Schiaparelli Hemisphere',\n",
       "  'img_url': 'http://astropedia.astrogeology.usgs.gov/download/Mars/Viking/schiaparelli_enhanced.tif/full.jpg'},\n",
       " {'title': 'Syrtis Major Hemisphere',\n",
       "  'img_url': 'http://astropedia.astrogeology.usgs.gov/download/Mars/Viking/syrtis_major_enhanced.tif/full.jpg'},\n",
       " {'title': 'Valles Marineris Hemisphere',\n",
       "  'img_url': 'http://astropedia.astrogeology.usgs.gov/download/Mars/Viking/valles_marineris_enhanced.tif/full.jpg'}]"
      ]
     },
     "execution_count": 8,
     "metadata": {},
     "output_type": "execute_result"
    }
   ],
   "source": [
    "hemisphere_image_urls = list()\n",
    "divs = soup.find_all('div', class_='description')\n",
    "for div in divs:\n",
    "    key_word = div.find('h3').text\n",
    "#    print(key_word)\n",
    "    browser.links.find_by_partial_text(key_word).click()\n",
    "    \n",
    "    # Now our browser is on the linked page\n",
    "    soup2 = bs(browser.html,'html.parser')\n",
    "#     body = soup.find('body')\n",
    "#     with open(f'{key_word}.html','w') as f:\n",
    "#         f.write(body.prettify())\n",
    "    \n",
    "    downloads = soup2.find('div', class_='downloads')\n",
    "    img_url = downloads.find('a')['href']\n",
    "    \n",
    "    hemisphere_image_urls.append({'title':key_word.replace(' Enhanced',''),'img_url':img_url})\n",
    "\n",
    "    # Go back to the original page\n",
    "    browser.back()\n",
    "    \n",
    "hemisphere_image_urls"
   ]
  },
  {
   "cell_type": "code",
   "execution_count": 11,
   "metadata": {},
   "outputs": [],
   "source": [
    "result = db.Hemispheres.drop()\n",
    "result = db.Hemispheres.insert_one({'title_and_image_list':hemisphere_image_urls})"
   ]
  },
  {
   "cell_type": "markdown",
   "metadata": {},
   "source": [
    "## MarsDB"
   ]
  },
  {
   "cell_type": "code",
   "execution_count": null,
   "metadata": {},
   "outputs": [],
   "source": [
    "x = db.News.find()\n",
    "print(type(x))\n",
    "print(x.next)\n",
    "print(x[0])\n",
    "\n",
    "# for y in x:\n",
    "#     print(y)"
   ]
  },
  {
   "cell_type": "code",
   "execution_count": null,
   "metadata": {},
   "outputs": [],
   "source": [
    "mars_info = {'News' : db.News.find_one({}, {'_id':False}),\n",
    "             'Image' : db.Image.find_one({}, {'_id':False}),\n",
    "             'Weather' : db.Weather.find_one({}, {'_id':False}),\n",
    "             'Facts' : db.Facts.find_one({}, {'_id':False}),\n",
    "             'Hemispheres' : db.Hemispheres.find_one({}, {'_id':False})\n",
    "            }\n",
    "mars_info"
   ]
  },
  {
   "cell_type": "code",
   "execution_count": null,
   "metadata": {},
   "outputs": [],
   "source": []
  }
 ],
 "metadata": {
  "kernelspec": {
   "display_name": "Python 3",
   "language": "python",
   "name": "python3"
  },
  "language_info": {
   "codemirror_mode": {
    "name": "ipython",
    "version": 3
   },
   "file_extension": ".py",
   "mimetype": "text/x-python",
   "name": "python",
   "nbconvert_exporter": "python",
   "pygments_lexer": "ipython3",
   "version": "3.7.6"
  }
 },
 "nbformat": 4,
 "nbformat_minor": 4
}
