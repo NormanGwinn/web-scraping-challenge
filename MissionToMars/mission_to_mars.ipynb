{
 "cells": [
  {
   "cell_type": "code",
   "execution_count": 78,
   "metadata": {},
   "outputs": [],
   "source": [
    "# Libraries\n",
    "from bs4 import BeautifulSoup as bs\n",
    "import pandas as pd\n",
    "import pymongo\n",
    "import re\n",
    "import requests\n",
    "from splinter import Browser"
   ]
  },
  {
   "cell_type": "code",
   "execution_count": 2,
   "metadata": {},
   "outputs": [],
   "source": [
    "# Set up Splinter browser\n",
    "cd_fp = \"C:/Users/norma/Anaconda3/chromedriver.exe\"\n",
    "browser = Browser('chrome', cd_fp, headless=True)"
   ]
  },
  {
   "cell_type": "code",
   "execution_count": 3,
   "metadata": {},
   "outputs": [],
   "source": [
    "# Establish a Mongo database connection\n",
    "conn = 'mongodb://localhost:27017'\n",
    "client = pymongo.MongoClient(conn)\n",
    "db = client.MarsDB"
   ]
  },
  {
   "cell_type": "markdown",
   "metadata": {},
   "source": [
    "## NASA Mars News"
   ]
  },
  {
   "cell_type": "code",
   "execution_count": 12,
   "metadata": {},
   "outputs": [],
   "source": [
    "# Visit the site\n",
    "url = 'https://mars.nasa.gov/news/'\n",
    "browser.visit(url)\n",
    "\n",
    "# Make Soup\n",
    "soup = bs(browser.html, 'html.parser')\n",
    "\n",
    "# Write out a pretty version of the body, for visual inspection.\n",
    "body = soup.find('body')\n",
    "with open('news2.html','w') as f:\n",
    "    f.write(body.prettify())"
   ]
  },
  {
   "cell_type": "code",
   "execution_count": 13,
   "metadata": {},
   "outputs": [
    {
     "name": "stdout",
     "output_type": "stream",
     "text": [
      "How NASA's Perseverance Mars Team Adjusted to Work in the Time of Coronavirus\n",
      "Like much of the rest of the world, the Mars rover team is pushing forward with its mission-critical work while putting the health and safety of their colleagues and community first.\n"
     ]
    }
   ],
   "source": [
    "# Find desired content\n",
    "first_article = soup.find('li', class_ = 'slide')\n",
    "#print(first_article)\n",
    "nasa_title = first_article.find('h3').text.strip()\n",
    "print(nasa_title)\n",
    "nasa_abstract = first_article.find('div', class_ = 'article_teaser_body').text.strip()\n",
    "print(nasa_abstract)"
   ]
  },
  {
   "cell_type": "markdown",
   "metadata": {},
   "source": [
    "#### Experiment:  Would the request library be a more straightforward way to get the HTML?"
   ]
  },
  {
   "cell_type": "raw",
   "metadata": {},
   "source": [
    "url = 'https://mars.nasa.gov/news/'\n",
    "soup = bs(requests.get(url).content, 'html.parser')\n",
    "body = soup.find('body')\n",
    "with open('news.html','w') as f:\n",
    "    f.write(body.prettify())\n",
    "\n",
    "first_article = soup.find('li', class_ = 'slide')\n",
    "print(first_article)\n",
    "\n",
    "# This fails.  The request.get does not return the same HTML that the Splinter browser returned.\n",
    "nasa_title = first_article.find('h3').text.strip()\n",
    "nasa_abstract = first_article.find('div', class_ = 'article_teaser_body').text.strip()\n",
    "print(nasa_title)\n",
    "print(nasa_abstract)"
   ]
  },
  {
   "cell_type": "code",
   "execution_count": null,
   "metadata": {},
   "outputs": [],
   "source": [
    "# Persist the desired content\n",
    "\n",
    "# I could have used \"replace\", but:\n",
    "#    On the first round, I would have to manually insert a document.\n",
    "#    Who knows what has tranpired in my database since last used it?\n",
    "result = db.News.drop()\n",
    "result = db.News.insert_one({'title':nasa_title,'abstract':nasa_abstract})"
   ]
  },
  {
   "cell_type": "markdown",
   "metadata": {},
   "source": [
    "## JPL Mars Space Images - Featured Image"
   ]
  },
  {
   "cell_type": "code",
   "execution_count": 18,
   "metadata": {},
   "outputs": [],
   "source": [
    "# Visit the site\n",
    "url = 'https://www.jpl.nasa.gov/spaceimages/?search=&category=Mars'\n",
    "browser.visit(url)\n",
    "\n",
    "# I sadly went down the path of using soup to find anchors, buttons, or hrefs, and trying to \"click()\" soup elements.\n",
    "# By trial and error and error and error, and with a code sample from Jeab, I realized that clicking links was a\n",
    "# feature of the Splinter browser, not BeautifulSoup.\n",
    "\n",
    "# soup = bs(browser.html, 'html.parser')\n",
    "# body = soup.find('body')\n",
    "# with open('jpl_body.html','w') as f:\n",
    "#     f.write(body.prettify())"
   ]
  },
  {
   "cell_type": "code",
   "execution_count": 20,
   "metadata": {},
   "outputs": [],
   "source": [
    "# By a considerable amount of poking and inspecting in the human way, \n",
    "# I found that this pattern of clicks led to the large image.\n",
    "\n",
    "browser.links.find_by_partial_text('FULL IMAGE').click()\n",
    "    \n",
    "browser.links.find_by_partial_text('more info').click()\n",
    "\n",
    "# Make Soup\n",
    "soup = bs(browser.html, 'html.parser')\n",
    "# body = soup3.find('body')\n",
    "# with open('jpl_more_info.html','w') as f:\n",
    "#     f.write(body.prettify())\n",
    "    \n",
    "featured_image_url = 'https://www.jpl.nasa.gov' + soup.find('figure').find('a')['href']"
   ]
  },
  {
   "cell_type": "code",
   "execution_count": 21,
   "metadata": {},
   "outputs": [],
   "source": [
    "# Persist the desired content\n",
    "result = db.Image.drop()\n",
    "result = db.Image.insert_one({'url':featured_image_url})"
   ]
  },
  {
   "cell_type": "markdown",
   "metadata": {},
   "source": [
    "## Mars Weather"
   ]
  },
  {
   "cell_type": "code",
   "execution_count": 101,
   "metadata": {},
   "outputs": [],
   "source": [
    "# Visit the site\n",
    "url = 'http://twitter.com/marswxreport?lang=en'\n",
    "browser.visit(url)"
   ]
  },
  {
   "cell_type": "code",
   "execution_count": 102,
   "metadata": {},
   "outputs": [
    {
     "name": "stdout",
     "output_type": "stream",
     "text": [
      "InSight sol 504 (2020-04-27) low -93.6ºC (-136.5ºF) high -6.7ºC (20.0ºF)\n",
      "winds from the SW at 4.6 m/s (10.3 mph) gusting to 15.0 m/s (33.6 mph)\n",
      "pressure at 6.80 hPa\n"
     ]
    }
   ],
   "source": [
    "# Make Soup\n",
    "soup = bs(browser.html, 'html.parser', from_encoding=\"utf-8\")\n",
    "\n",
    "# Struggled with the embedded emoji character, u'\\U0001f602'\n",
    "body = soup.find('body')\n",
    "#with open('twitter.html','w') as f:\n",
    "#     f.write(str(body)[0:78200])\n",
    "\n",
    "# Struggled with a surgical or precise way to find the weather\n",
    "# Find desired content\n",
    "mars_weather = ''\n",
    "spans = body.find_all('span')\n",
    "for span in spans:\n",
    "    if 'InSight sol' in span.text:\n",
    "        mars_weather = span.text.strip()\n",
    "        break\n",
    "        \n",
    "print(mars_weather)"
   ]
  },
  {
   "cell_type": "code",
   "execution_count": 103,
   "metadata": {},
   "outputs": [],
   "source": [
    "# Persist the desired content\n",
    "result = db.Weather.drop()\n",
    "result = db.Weather.insert_one({'conditions':mars_weather})"
   ]
  },
  {
   "cell_type": "markdown",
   "metadata": {},
   "source": [
    "## Mars Facts"
   ]
  },
  {
   "cell_type": "code",
   "execution_count": 88,
   "metadata": {},
   "outputs": [
    {
     "data": {
      "text/html": [
       "<div>\n",
       "<style scoped>\n",
       "    .dataframe tbody tr th:only-of-type {\n",
       "        vertical-align: middle;\n",
       "    }\n",
       "\n",
       "    .dataframe tbody tr th {\n",
       "        vertical-align: top;\n",
       "    }\n",
       "\n",
       "    .dataframe thead th {\n",
       "        text-align: right;\n",
       "    }\n",
       "</style>\n",
       "<table border=\"1\" class=\"dataframe\">\n",
       "  <thead>\n",
       "    <tr style=\"text-align: right;\">\n",
       "      <th></th>\n",
       "      <th>Attribute</th>\n",
       "      <th>Value</th>\n",
       "    </tr>\n",
       "  </thead>\n",
       "  <tbody>\n",
       "    <tr>\n",
       "      <th>0</th>\n",
       "      <td>Equatorial Diameter:</td>\n",
       "      <td>6,792 km</td>\n",
       "    </tr>\n",
       "    <tr>\n",
       "      <th>1</th>\n",
       "      <td>Polar Diameter:</td>\n",
       "      <td>6,752 km</td>\n",
       "    </tr>\n",
       "    <tr>\n",
       "      <th>2</th>\n",
       "      <td>Mass:</td>\n",
       "      <td>6.39 × 10^23 kg (0.11 Earths)</td>\n",
       "    </tr>\n",
       "    <tr>\n",
       "      <th>3</th>\n",
       "      <td>Moons:</td>\n",
       "      <td>2 (Phobos &amp; Deimos)</td>\n",
       "    </tr>\n",
       "    <tr>\n",
       "      <th>4</th>\n",
       "      <td>Orbit Distance:</td>\n",
       "      <td>227,943,824 km (1.38 AU)</td>\n",
       "    </tr>\n",
       "    <tr>\n",
       "      <th>5</th>\n",
       "      <td>Orbit Period:</td>\n",
       "      <td>687 days (1.9 years)</td>\n",
       "    </tr>\n",
       "    <tr>\n",
       "      <th>6</th>\n",
       "      <td>Surface Temperature:</td>\n",
       "      <td>-87 to -5 °C</td>\n",
       "    </tr>\n",
       "    <tr>\n",
       "      <th>7</th>\n",
       "      <td>First Record:</td>\n",
       "      <td>2nd millennium BC</td>\n",
       "    </tr>\n",
       "    <tr>\n",
       "      <th>8</th>\n",
       "      <td>Recorded By:</td>\n",
       "      <td>Egyptian astronomers</td>\n",
       "    </tr>\n",
       "  </tbody>\n",
       "</table>\n",
       "</div>"
      ],
      "text/plain": [
       "              Attribute                          Value\n",
       "0  Equatorial Diameter:                       6,792 km\n",
       "1       Polar Diameter:                       6,752 km\n",
       "2                 Mass:  6.39 × 10^23 kg (0.11 Earths)\n",
       "3                Moons:            2 (Phobos & Deimos)\n",
       "4       Orbit Distance:       227,943,824 km (1.38 AU)\n",
       "5         Orbit Period:           687 days (1.9 years)\n",
       "6  Surface Temperature:                   -87 to -5 °C\n",
       "7         First Record:              2nd millennium BC\n",
       "8          Recorded By:           Egyptian astronomers"
      ]
     },
     "execution_count": 88,
     "metadata": {},
     "output_type": "execute_result"
    }
   ],
   "source": [
    "# Pull tables from the site\n",
    "url = 'https://space-facts.com/mars/'\n",
    "dfs = pd.read_html(url)\n",
    "\n",
    "# Try the first table\n",
    "df_mars_facts = dfs[0]\n",
    "df_mars_facts.columns = ['Attribute','Value']\n",
    "df_mars_facts"
   ]
  },
  {
   "cell_type": "code",
   "execution_count": 89,
   "metadata": {},
   "outputs": [],
   "source": [
    "# Produce table HTML\n",
    "html = df_mars_facts.to_html(index=False, justify='center', classes=['table','table-sm','table-striped'])\n",
    "my_re = re.compile('\\n\\s+')\n",
    "html_cleaned = my_re.sub('', html)"
   ]
  },
  {
   "cell_type": "code",
   "execution_count": 90,
   "metadata": {},
   "outputs": [],
   "source": [
    "# Persist the desired content\n",
    "result = db.Facts.drop()\n",
    "result = db.Facts.insert_one({'table_html':html_cleaned})"
   ]
  },
  {
   "cell_type": "markdown",
   "metadata": {},
   "source": [
    "## Mars Hemispheres"
   ]
  },
  {
   "cell_type": "code",
   "execution_count": 91,
   "metadata": {},
   "outputs": [],
   "source": [
    "# Visit the site\n",
    "url = 'https://astrogeology.usgs.gov/search/results?q=hemisphere+enhanced&k1=target&v1=Mars'\n",
    "browser.visit(url)"
   ]
  },
  {
   "cell_type": "code",
   "execution_count": 92,
   "metadata": {},
   "outputs": [],
   "source": [
    "soup = bs(browser.html,'html.parser')\n",
    "# body = soup.find('body')\n",
    "# with open('hemispheres.html','w') as f:\n",
    "#     f.write(body.prettify())\n"
   ]
  },
  {
   "cell_type": "code",
   "execution_count": 93,
   "metadata": {},
   "outputs": [],
   "source": [
    "# Refinement of Jeab's code\n",
    "# divs = soup.find_all('div', class_='item')\n",
    "# for div in divs:\n",
    "#     key_word = div.find('h3').text\n",
    "#     browser.find_link_by_partial_text(key_word).click()\n",
    "#     img_url = browser.find_link_by_text('Sample').first['href']\n",
    "#     print(img_url)\n",
    "#     browser.back()"
   ]
  },
  {
   "cell_type": "raw",
   "metadata": {},
   "source": [
    "# I've learned that click() on a BeautifulSoup element tag is not the same as \n",
    "# click() on a Splinter browser.links WebDriverElement\n",
    "hemisphere_image_urls = list()\n",
    "divs = soup.find_all('div', class_='description')\n",
    "for div in divs:\n",
    "#    print(div)\n",
    "    anchor = div.find('a')\n",
    "    print(type(anchor), '\\n', anchor)\n",
    "    #anchor.click()\n",
    "    #browser.back()"
   ]
  },
  {
   "cell_type": "code",
   "execution_count": 94,
   "metadata": {},
   "outputs": [
    {
     "data": {
      "text/plain": [
       "[{'title': 'Cerberus Hemisphere',\n",
       "  'img_url': 'http://astropedia.astrogeology.usgs.gov/download/Mars/Viking/cerberus_enhanced.tif/full.jpg'},\n",
       " {'title': 'Schiaparelli Hemisphere',\n",
       "  'img_url': 'http://astropedia.astrogeology.usgs.gov/download/Mars/Viking/schiaparelli_enhanced.tif/full.jpg'},\n",
       " {'title': 'Syrtis Major Hemisphere',\n",
       "  'img_url': 'http://astropedia.astrogeology.usgs.gov/download/Mars/Viking/syrtis_major_enhanced.tif/full.jpg'},\n",
       " {'title': 'Valles Marineris Hemisphere',\n",
       "  'img_url': 'http://astropedia.astrogeology.usgs.gov/download/Mars/Viking/valles_marineris_enhanced.tif/full.jpg'}]"
      ]
     },
     "execution_count": 94,
     "metadata": {},
     "output_type": "execute_result"
    }
   ],
   "source": [
    "# Find the desired content\n",
    "hemisphere_image_urls = list()\n",
    "divs = soup.find_all('div', class_='description')\n",
    "for div in divs:\n",
    "    key_word = div.find('h3').text\n",
    "#    print(key_word)\n",
    "    browser.links.find_by_partial_text(key_word).click()\n",
    "    \n",
    "    # Now our browser is on the linked page\n",
    "    soup2 = bs(browser.html,'html.parser')\n",
    "#     body = soup.find('body')\n",
    "#     with open(f'{key_word}.html','w') as f:\n",
    "#         f.write(body.prettify())\n",
    "    \n",
    "    downloads = soup2.find('div', class_='downloads')\n",
    "    img_url = downloads.find('a')['href']\n",
    "    \n",
    "    hemisphere_image_urls.append({'title':key_word.replace(' Enhanced',''),'img_url':img_url})\n",
    "\n",
    "    # Go back to the original page\n",
    "    browser.back()\n",
    "    \n",
    "hemisphere_image_urls"
   ]
  },
  {
   "cell_type": "code",
   "execution_count": 95,
   "metadata": {},
   "outputs": [],
   "source": [
    "# Persist the desired content\n",
    "result = db.Hemispheres.drop()\n",
    "result = db.Hemispheres.insert_one({'title_and_image_list':hemisphere_image_urls})"
   ]
  },
  {
   "cell_type": "markdown",
   "metadata": {},
   "source": [
    "## Experiment with the Mongo Database\n",
    "### Work within a database named MarsDB, with this content layout; Collection Name, followed by dictionary keys"
   ]
  },
  {
   "cell_type": "raw",
   "metadata": {},
   "source": [
    "MarsDB\n",
    "    News\n",
    "        title\n",
    "        abstract\n",
    "    Image\n",
    "        url\n",
    "    Weather\n",
    "        conditions\n",
    "    Facts\n",
    "        table_html\n",
    "    hemispheres\n",
    "        title_and_image_list[]\n",
    "            title\n",
    "            img_url"
   ]
  },
  {
   "cell_type": "code",
   "execution_count": 99,
   "metadata": {},
   "outputs": [
    {
     "name": "stdout",
     "output_type": "stream",
     "text": [
      "<class 'pymongo.cursor.Cursor'>\n",
      "<bound method Cursor.next of <pymongo.cursor.Cursor object at 0x0000022978016588>>\n",
      "{'_id': ObjectId('5ea5ce471c775750a4d16b74'), 'title': \"How NASA's Perseverance Mars Team Adjusted to Work in the Time of Coronavirus\", 'abstract': 'Like much of the rest of the world, the Mars rover team is pushing forward with its mission-critical work while putting the health and safety of their colleagues and community first.'}\n"
     ]
    }
   ],
   "source": [
    "x = db.News.find()\n",
    "print(type(x))\n",
    "print(x.next)\n",
    "print(x[0])\n",
    "\n",
    "# for y in x:\n",
    "#     print(y)"
   ]
  },
  {
   "cell_type": "code",
   "execution_count": 97,
   "metadata": {},
   "outputs": [
    {
     "data": {
      "text/plain": [
       "{'News': {'title': \"How NASA's Perseverance Mars Team Adjusted to Work in the Time of Coronavirus\",\n",
       "  'abstract': 'Like much of the rest of the world, the Mars rover team is pushing forward with its mission-critical work while putting the health and safety of their colleagues and community first.'},\n",
       " 'Image': {'url': 'https://www.jpl.nasa.gov/spaceimages/images/largesize/PIA19643_hires.jpg'},\n",
       " 'Weather': {'conditions': ''},\n",
       " 'Facts': {'table_html': '<table border=\"1\" class=\"dataframe table table-sm table-striped\"><thead><tr style=\"text-align: center;\"><th>Attribute</th><th>Value</th></tr></thead><tbody><tr><td>Equatorial Diameter:</td><td>6,792 km</td></tr><tr><td>Polar Diameter:</td><td>6,752 km</td></tr><tr><td>Mass:</td><td>6.39 × 10^23 kg (0.11 Earths)</td></tr><tr><td>Moons:</td><td>2 (Phobos &amp; Deimos)</td></tr><tr><td>Orbit Distance:</td><td>227,943,824 km (1.38 AU)</td></tr><tr><td>Orbit Period:</td><td>687 days (1.9 years)</td></tr><tr><td>Surface Temperature:</td><td>-87 to -5 °C</td></tr><tr><td>First Record:</td><td>2nd millennium BC</td></tr><tr><td>Recorded By:</td><td>Egyptian astronomers</td></tr></tbody>\\n</table>'},\n",
       " 'Hemispheres': {'title_and_image_list': [{'title': 'Cerberus Hemisphere',\n",
       "    'img_url': 'http://astropedia.astrogeology.usgs.gov/download/Mars/Viking/cerberus_enhanced.tif/full.jpg'},\n",
       "   {'title': 'Schiaparelli Hemisphere',\n",
       "    'img_url': 'http://astropedia.astrogeology.usgs.gov/download/Mars/Viking/schiaparelli_enhanced.tif/full.jpg'},\n",
       "   {'title': 'Syrtis Major Hemisphere',\n",
       "    'img_url': 'http://astropedia.astrogeology.usgs.gov/download/Mars/Viking/syrtis_major_enhanced.tif/full.jpg'},\n",
       "   {'title': 'Valles Marineris Hemisphere',\n",
       "    'img_url': 'http://astropedia.astrogeology.usgs.gov/download/Mars/Viking/valles_marineris_enhanced.tif/full.jpg'}]}}"
      ]
     },
     "execution_count": 97,
     "metadata": {},
     "output_type": "execute_result"
    }
   ],
   "source": [
    "mars_info = {'News' : db.News.find_one({}, {'_id':False}),\n",
    "             'Image' : db.Image.find_one({}, {'_id':False}),\n",
    "             'Weather' : db.Weather.find_one({}, {'_id':False}),\n",
    "             'Facts' : db.Facts.find_one({}, {'_id':False}),\n",
    "             'Hemispheres' : db.Hemispheres.find_one({}, {'_id':False})\n",
    "            }\n",
    "mars_info"
   ]
  },
  {
   "cell_type": "code",
   "execution_count": null,
   "metadata": {},
   "outputs": [],
   "source": []
  }
 ],
 "metadata": {
  "kernelspec": {
   "display_name": "Python 3",
   "language": "python",
   "name": "python3"
  },
  "language_info": {
   "codemirror_mode": {
    "name": "ipython",
    "version": 3
   },
   "file_extension": ".py",
   "mimetype": "text/x-python",
   "name": "python",
   "nbconvert_exporter": "python",
   "pygments_lexer": "ipython3",
   "version": "3.7.6"
  }
 },
 "nbformat": 4,
 "nbformat_minor": 4
}
